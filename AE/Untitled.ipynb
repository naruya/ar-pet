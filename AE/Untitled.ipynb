{
 "cells": [
  {
   "cell_type": "code",
   "execution_count": 6,
   "metadata": {},
   "outputs": [
    {
     "data": {
      "text/plain": [
       "(1.0, 6.123233995736766e-17)"
      ]
     },
     "execution_count": 6,
     "metadata": {},
     "output_type": "execute_result"
    }
   ],
   "source": [
    "import numpy as np\n",
    "np.sin(2 * np.pi * 16 / 64), np.cos(2 * np.pi * 16 / 64)"
   ]
  },
  {
   "cell_type": "code",
   "execution_count": 7,
   "metadata": {},
   "outputs": [],
   "source": [
    "import torch"
   ]
  },
  {
   "cell_type": "code",
   "execution_count": 10,
   "metadata": {},
   "outputs": [
    {
     "data": {
      "text/plain": [
       "tensor([[0, 1],\n",
       "        [2, 3],\n",
       "        [4, 5]])"
      ]
     },
     "execution_count": 10,
     "metadata": {},
     "output_type": "execute_result"
    }
   ],
   "source": [
    "a = torch.from_numpy(np.array(np.arange(6).reshape(3, 2)))\n",
    "a"
   ]
  },
  {
   "cell_type": "code",
   "execution_count": null,
   "metadata": {},
   "outputs": [],
   "source": [
    "    class Encoder(nn.Module):\n",
    "         self.conv3 = nn.Conv2d(64, 128, 4, stride=2)\n",
    "         self.conv4 = nn.Conv2d(128, 256, 4, stride=2)\n",
    "         self.fc1 = nn.Linear(1024, 2)\n",
    "+        self.fc21 = nn.Linear(1024, 8)\n",
    "+        self.fc22 = nn.Linear(1024, 8)\n",
    " \n",
    "     def forward(self, x):\n",
    "         h = F.relu(self.conv1(x))  # 31x31\n",
    "    class Encoder(nn.Module):\n",
    "         yaw = self.fc1(h)  # 1024 -> 2\n",
    "         print(torch.norm(yaw))\n",
    "         yaw = yaw / torch.norm(yaw)\n",
    "-        return yaw\n",
    "+        mu = self.fc21(h)\n",
    "+        logvar self.fc22(h)\n",
    "+        s = self.reparameterize(mu, logvar)\n",
    "+        return yaw, (s, mu, logvar)\n",
    "+    \n",
    "+    def reparameterize(self, mu, logvar):\n",
    "+        std = logvar.mul(.5).exp_()\n",
    "+        eps = std.clone().detach().new(std.size()).normal_()\n",
    "+        return eps.mul(std).add_(mu)"
   ]
  },
  {
   "cell_type": "code",
   "execution_count": null,
   "metadata": {},
   "outputs": [],
   "source": []
  },
  {
   "cell_type": "code",
   "execution_count": null,
   "metadata": {},
   "outputs": [],
   "source": []
  },
  {
   "cell_type": "code",
   "execution_count": 11,
   "metadata": {},
   "outputs": [
    {
     "data": {
      "text/plain": [
       "tensor([[ 0,  1],\n",
       "        [-2,  3],\n",
       "        [-4,  5]])"
      ]
     },
     "execution_count": 11,
     "metadata": {},
     "output_type": "execute_result"
    }
   ],
   "source": [
    "a * torch.from_numpy(np.array([-1, 1]))"
   ]
  }
 ],
 "metadata": {
  "kernelspec": {
   "display_name": "Python 3",
   "language": "python",
   "name": "python3"
  },
  "language_info": {
   "codemirror_mode": {
    "name": "ipython",
    "version": 3
   },
   "file_extension": ".py",
   "mimetype": "text/x-python",
   "name": "python",
   "nbconvert_exporter": "python",
   "pygments_lexer": "ipython3",
   "version": "3.7.4"
  }
 },
 "nbformat": 4,
 "nbformat_minor": 4
}
